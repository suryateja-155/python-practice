{
 "cells": [
  {
   "cell_type": "code",
   "execution_count": 1,
   "id": "5e50c0cf-dcf1-4296-80bd-5b06bd991c87",
   "metadata": {},
   "outputs": [],
   "source": [
    "num=[1,2,3,4]\n",
    "add_element=[\"one\",\"two\",\"three\",\"four\"]"
   ]
  },
  {
   "cell_type": "code",
   "execution_count": 3,
   "id": "a6ddbaca-71d2-4c51-8efe-762c87c8ff51",
   "metadata": {},
   "outputs": [
    {
     "name": "stdout",
     "output_type": "stream",
     "text": [
      "[1, 2, 3, 4, 'one', 'two', 'three', 'four']\n"
     ]
    }
   ],
   "source": [
    "num.extend(add_element)\n",
    "print(num)"
   ]
  },
  {
   "cell_type": "code",
   "execution_count": 5,
   "id": "c93ba889-5b44-466c-a936-2eb4d6eda263",
   "metadata": {},
   "outputs": [
    {
     "data": {
      "text/plain": [
       "[5, 6, 7, 8, 'five', 'six', 'seven', 'eight']"
      ]
     },
     "execution_count": 5,
     "metadata": {},
     "output_type": "execute_result"
    }
   ],
   "source": [
    "num=[5,6,7,8]\n",
    "add_element=(\"five\",\"six\",\"seven\",\"eight\")\n",
    "num.extend(add_element)\n",
    "num"
   ]
  },
  {
   "cell_type": "code",
   "execution_count": 7,
   "id": "040e688a-b2b4-4dbe-a687-a6aedff890d5",
   "metadata": {},
   "outputs": [
    {
     "data": {
      "text/plain": [
       "[1, 2, 3, 4, 'three', 'one', 'four', 'two']"
      ]
     },
     "execution_count": 7,
     "metadata": {},
     "output_type": "execute_result"
    }
   ],
   "source": [
    "num=[1,2,3,4]\n",
    "add_element={\"one\",\"two\",\"three\",\"four\"}\n",
    "num.extend(add_element)\n",
    "num"
   ]
  },
  {
   "cell_type": "code",
   "execution_count": 9,
   "id": "ad3ae134-caa1-442f-91c9-6867f699dd11",
   "metadata": {},
   "outputs": [
    {
     "name": "stdin",
     "output_type": "stream",
     "text": [
      " 4\n",
      " 12\n",
      " 26\n",
      " 10\n",
      " 6\n"
     ]
    },
    {
     "name": "stdout",
     "output_type": "stream",
     "text": [
      "[12, 26, 10, 6]\n"
     ]
    },
    {
     "name": "stdin",
     "output_type": "stream",
     "text": [
      " 4\n",
      " 7\n",
      " 67\n",
      " 9\n",
      " 99\n"
     ]
    },
    {
     "name": "stdout",
     "output_type": "stream",
     "text": [
      "[7, 67, 9, 99]\n"
     ]
    }
   ],
   "source": [
    "size_of_list_1=int(input())\n",
    "list_1=[]\n",
    "for i in range(size_of_list_1):\n",
    "    list_1.append(int(input()))\n",
    "print(list_1)\n",
    "size_of_list_2=int(input())\n",
    "list_2=[]\n",
    "for i in range(size_of_list_2):\n",
    "    list_2.append(int(input()))\n",
    "print(list_2)"
   ]
  },
  {
   "cell_type": "code",
   "execution_count": 11,
   "id": "6c1adf13-c545-40c5-97b5-4e39f0435957",
   "metadata": {},
   "outputs": [
    {
     "data": {
      "text/plain": [
       "[12, 26, 10, 6, 7, 67, 9, 99]"
      ]
     },
     "execution_count": 11,
     "metadata": {},
     "output_type": "execute_result"
    }
   ],
   "source": [
    "list_1.extend(list_2)\n",
    "list_1"
   ]
  },
  {
   "cell_type": "code",
   "execution_count": 13,
   "id": "5b9eec48-e36a-4e6c-9662-43d2e54ebdab",
   "metadata": {},
   "outputs": [
    {
     "name": "stdout",
     "output_type": "stream",
     "text": [
      "[1, 2, 'three', 3, 4, 5]\n"
     ]
    }
   ],
   "source": [
    "num=[1,2,3,4,5]\n",
    "num.insert(2,\"three\")\n",
    "print(num)"
   ]
  },
  {
   "cell_type": "code",
   "execution_count": 15,
   "id": "35b0311b-2f73-405d-bab3-5f0e5174e9bb",
   "metadata": {},
   "outputs": [
    {
     "name": "stdout",
     "output_type": "stream",
     "text": [
      "[1, 2, 4]\n"
     ]
    }
   ],
   "source": [
    "num=[1,2,3,4]\n",
    "num.remove(3)\n",
    "print(num)"
   ]
  },
  {
   "cell_type": "code",
   "execution_count": 17,
   "id": "efc2f8fa-771e-449a-9f6a-968464dffd78",
   "metadata": {},
   "outputs": [
    {
     "name": "stdout",
     "output_type": "stream",
     "text": [
      "['e', 'h', 'n', 'r', 't']\n"
     ]
    }
   ],
   "source": [
    "a=['e','r','t','h','n']\n",
    "a.sort()\n",
    "print(a)"
   ]
  },
  {
   "cell_type": "code",
   "execution_count": 19,
   "id": "a23cceb6-d96f-4e82-b527-283e79a91869",
   "metadata": {},
   "outputs": [
    {
     "name": "stdout",
     "output_type": "stream",
     "text": [
      "['a', 'd', 'i', 'r', 't', 'u', 'w']\n"
     ]
    }
   ],
   "source": [
    "a=['r','t','w','u','i','a','d']\n",
    "a.sort()\n",
    "print(a)"
   ]
  },
  {
   "cell_type": "code",
   "execution_count": 21,
   "id": "39a82d3e-7d2d-4f8f-9c8f-794044df1f90",
   "metadata": {},
   "outputs": [
    {
     "name": "stdout",
     "output_type": "stream",
     "text": [
      "6\n"
     ]
    }
   ],
   "source": [
    "a=[9,17,14,4,90,55]\n",
    "print(len(a))"
   ]
  },
  {
   "cell_type": "code",
   "execution_count": 23,
   "id": "b903f215-913e-4784-a379-e87ffae63aa1",
   "metadata": {},
   "outputs": [
    {
     "name": "stdout",
     "output_type": "stream",
     "text": [
      "4\n"
     ]
    }
   ],
   "source": [
    "a=[9,17,14,4,90,55]\n",
    "print(min(a))"
   ]
  },
  {
   "cell_type": "code",
   "execution_count": 25,
   "id": "d9a5015e-f19e-4ea5-8cbf-7d8aeb122dbf",
   "metadata": {},
   "outputs": [
    {
     "name": "stdout",
     "output_type": "stream",
     "text": [
      "1909\n"
     ]
    }
   ],
   "source": [
    "a=[12,55,44,76,98,1909]\n",
    "print(max(a))"
   ]
  },
  {
   "cell_type": "code",
   "execution_count": 27,
   "id": "436fb636-f00f-4b4b-ab60-1f2ff0313e61",
   "metadata": {},
   "outputs": [
    {
     "name": "stdout",
     "output_type": "stream",
     "text": [
      "226\n"
     ]
    }
   ],
   "source": [
    "a=[4,56,33,77,56]\n",
    "print(sum(a))"
   ]
  },
  {
   "cell_type": "code",
   "execution_count": 33,
   "id": "acf088ed-03dc-4fe8-aadf-55119a9a8eb4",
   "metadata": {},
   "outputs": [
    {
     "name": "stdout",
     "output_type": "stream",
     "text": [
      "[9, 17, 14, 4, 90, 55] 31.5\n"
     ]
    }
   ],
   "source": [
    "a=[9,17,14,4,90,55]\n",
    "b=(sum(a)/len(a))\n",
    "print(a,b)"
   ]
  },
  {
   "cell_type": "code",
   "execution_count": 53,
   "id": "a0ef44b6-b680-4014-b3ba-8cbc586efa60",
   "metadata": {},
   "outputs": [
    {
     "name": "stdin",
     "output_type": "stream",
     "text": [
      " 5\n",
      " 56\n",
      " 43\n",
      " 34\n",
      " 12\n",
      " 22\n"
     ]
    },
    {
     "name": "stdout",
     "output_type": "stream",
     "text": [
      "[56, 43, 34, 12, 22]\n"
     ]
    }
   ],
   "source": [
    "n=int(input())\n",
    "a=[]\n",
    "for i in range(n):\n",
    "    x=int(input())\n",
    "    a.append(x)\n",
    "print(a)"
   ]
  },
  {
   "cell_type": "code",
   "execution_count": 43,
   "id": "4330b4e1-7a2e-48db-9d6c-ffd571164e48",
   "metadata": {},
   "outputs": [
    {
     "data": {
      "text/plain": [
       "['hi', 'how', 'are', 'you?']"
      ]
     },
     "execution_count": 43,
     "metadata": {},
     "output_type": "execute_result"
    }
   ],
   "source": [
    "x=\"hi how are you?\"\n",
    "x.split()"
   ]
  },
  {
   "cell_type": "code",
   "execution_count": 51,
   "id": "c39a192f-7817-402d-8376-6b79d6048032",
   "metadata": {},
   "outputs": [
    {
     "name": "stdin",
     "output_type": "stream",
     "text": [
      " 5\n",
      " 12 26 10 67 99\n"
     ]
    },
    {
     "name": "stdout",
     "output_type": "stream",
     "text": [
      "99\n"
     ]
    }
   ],
   "source": [
    "a=int(input())\n",
    "b=list(map(int,input().split()))\n",
    "#print(b)\n",
    "print(max(b))"
   ]
  },
  {
   "cell_type": "code",
   "execution_count": 55,
   "id": "829a7eb2-48da-4fa9-b86a-dfa5da58a074",
   "metadata": {},
   "outputs": [
    {
     "name": "stdin",
     "output_type": "stream",
     "text": [
      " 5\n",
      " 12 99 26 10 6\n"
     ]
    },
    {
     "name": "stdout",
     "output_type": "stream",
     "text": [
      "26\n"
     ]
    }
   ],
   "source": [
    "a=int(input())\n",
    "b=list(map(int,input().split()))\n",
    "b.sort()\n",
    "print(b[-2])"
   ]
  },
  {
   "cell_type": "code",
   "execution_count": 57,
   "id": "444ea06d-96ba-48e3-acc4-ecfd60f9d3d5",
   "metadata": {},
   "outputs": [
    {
     "name": "stdin",
     "output_type": "stream",
     "text": [
      " 5\n",
      " 12\n",
      " 99\n",
      " 6\n",
      " 26\n",
      " 10\n"
     ]
    },
    {
     "name": "stdout",
     "output_type": "stream",
     "text": [
      "largest even number: 26\n",
      "largest odd number: 99\n"
     ]
    }
   ],
   "source": [
    "n=int(input())\n",
    "b=[]\n",
    "for i in range(n):\n",
    "    a=int(input())\n",
    "    b.append(a)\n",
    "c=[]\n",
    "d=[]\n",
    "for i in b:\n",
    "    if(i%2==0):\n",
    "        c.append(i)\n",
    "    else:\n",
    "        d.append(i)\n",
    "c.sort()\n",
    "d.sort()\n",
    "print(\"largest even number:\",c[-1])\n",
    "print(\"largest odd number:\",d[-1])"
   ]
  },
  {
   "cell_type": "code",
   "execution_count": 69,
   "id": "5a1c8f35-978b-45e9-8bb3-dea2268e42d8",
   "metadata": {},
   "outputs": [
    {
     "name": "stdin",
     "output_type": "stream",
     "text": [
      " 5\n",
      " 12 99 6 26 10\n"
     ]
    },
    {
     "name": "stdout",
     "output_type": "stream",
     "text": [
      "largest even number: 26\n",
      "largest odd number: 99\n"
     ]
    }
   ],
   "source": [
    "n=int(input())\n",
    "b=list(map(int,input().split()))\n",
    "c=[]\n",
    "d=[]\n",
    "for i in b:\n",
    "    if(i%2==0):\n",
    "        c.append(i)\n",
    "    else:\n",
    "        d.append(i)\n",
    "c.sort()\n",
    "d.sort()\n",
    "#print(\"odd:\",d.sort())\n",
    "print(\"largest even number:\",c[-1])\n",
    "print(\"largest odd number:\",d[-1])"
   ]
  }
 ],
 "metadata": {
  "kernelspec": {
   "display_name": "Python 3 (ipykernel)",
   "language": "python",
   "name": "python3"
  },
  "language_info": {
   "codemirror_mode": {
    "name": "ipython",
    "version": 3
   },
   "file_extension": ".py",
   "mimetype": "text/x-python",
   "name": "python",
   "nbconvert_exporter": "python",
   "pygments_lexer": "ipython3",
   "version": "3.12.4"
  }
 },
 "nbformat": 4,
 "nbformat_minor": 5
}
