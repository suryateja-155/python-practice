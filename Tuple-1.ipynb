{
 "cells": [
  {
   "cell_type": "code",
   "execution_count": 1,
   "id": "72c9d9f2-3ff8-4409-9ad3-68e528b395ac",
   "metadata": {},
   "outputs": [
    {
     "name": "stdout",
     "output_type": "stream",
     "text": [
      "()\n"
     ]
    }
   ],
   "source": [
    "empty_tuple=()\n",
    "print(empty_tuple)"
   ]
  },
  {
   "cell_type": "code",
   "execution_count": 10,
   "id": "88ec9103-b77d-4ef6-9df5-560487c1db11",
   "metadata": {},
   "outputs": [
    {
     "name": "stdout",
     "output_type": "stream",
     "text": [
      "(34, 77, 33)\n"
     ]
    }
   ],
   "source": [
    "value_tuple=34,77,33\n",
    "print(value_tuple)"
   ]
  },
  {
   "cell_type": "code",
   "execution_count": 16,
   "id": "a0b673b1-5078-410b-99ed-627b1d8977ce",
   "metadata": {},
   "outputs": [
    {
     "name": "stdout",
     "output_type": "stream",
     "text": [
      "hello\n"
     ]
    }
   ],
   "source": [
    "tuple=(\"hello\")\n",
    "print(tuple)\n"
   ]
  },
  {
   "cell_type": "code",
   "execution_count": 18,
   "id": "caf8d074-735f-4251-84ec-73a55bde5aa6",
   "metadata": {},
   "outputs": [
    {
     "ename": "TypeError",
     "evalue": "'tuple' object does not support item assignment",
     "output_type": "error",
     "traceback": [
      "\u001b[1;31m---------------------------------------------------------------------------\u001b[0m",
      "\u001b[1;31mTypeError\u001b[0m                                 Traceback (most recent call last)",
      "Cell \u001b[1;32mIn[18], line 2\u001b[0m\n\u001b[0;32m      1\u001b[0m value_tuple\u001b[38;5;241m=\u001b[39m(\u001b[38;5;241m26\u001b[39m,\u001b[38;5;241m45\u001b[39m,\u001b[38;5;124m\"\u001b[39m\u001b[38;5;124mhello\u001b[39m\u001b[38;5;124m\"\u001b[39m)\n\u001b[1;32m----> 2\u001b[0m value_tuple[\u001b[38;5;241m1\u001b[39m]\u001b[38;5;241m=\u001b[39m\u001b[38;5;241m7\u001b[39m\n\u001b[0;32m      3\u001b[0m \u001b[38;5;28mprint\u001b[39m(value_tuple)\n",
      "\u001b[1;31mTypeError\u001b[0m: 'tuple' object does not support item assignment"
     ]
    }
   ],
   "source": [
    "value_tuple=(26,45,\"hello\")\n",
    "value_tuple[1]=7\n",
    "print(value_tuple)"
   ]
  },
  {
   "cell_type": "code",
   "execution_count": 20,
   "id": "0d2af78b-5dc4-41c2-91a6-1c82223cf3b0",
   "metadata": {},
   "outputs": [
    {
     "ename": "SyntaxError",
     "evalue": "unmatched ')' (646416677.py, line 2)",
     "output_type": "error",
     "traceback": [
      "\u001b[1;36m  Cell \u001b[1;32mIn[20], line 2\u001b[1;36m\u001b[0m\n\u001b[1;33m    value2_tuple=7,5.6,'hello')\u001b[0m\n\u001b[1;37m                              ^\u001b[0m\n\u001b[1;31mSyntaxError\u001b[0m\u001b[1;31m:\u001b[0m unmatched ')'\n"
     ]
    }
   ],
   "source": [
    "value1_tuple=(26,45,'hello')\n",
    "value2_tuple=7,5.6,'hello')\n",
    "print(value_tuple)"
   ]
  },
  {
   "cell_type": "code",
   "execution_count": 24,
   "id": "ccf3a397-a821-4ac1-8ea5-50ecb2618afd",
   "metadata": {},
   "outputs": [
    {
     "name": "stdout",
     "output_type": "stream",
     "text": [
      "(26, 45, 'hello')\n"
     ]
    }
   ],
   "source": [
    "value1_tuple=(26,45,\"hello\")\n",
    "value2_tuple=(7,5.6,\"hello\")\n",
    "value3_tuple=value1_tuple,value2_tuple\n",
    "print(value_tuple)"
   ]
  },
  {
   "cell_type": "code",
   "execution_count": 26,
   "id": "e8ee5210-fe2e-4ec7-8e09-b393928f2584",
   "metadata": {},
   "outputs": [
    {
     "name": "stdout",
     "output_type": "stream",
     "text": [
      "(26, 45, 'hello', 7.5)\n"
     ]
    }
   ],
   "source": [
    "value_tuple=(26,45,'hello',7.5)\n",
    "print(value_tuple[0:])"
   ]
  },
  {
   "cell_type": "code",
   "execution_count": 32,
   "id": "0c6c2523-b2fb-4954-ae5a-64f8beab04eb",
   "metadata": {},
   "outputs": [
    {
     "name": "stdout",
     "output_type": "stream",
     "text": [
      "('hello', 7.5)\n"
     ]
    }
   ],
   "source": [
    "value_tuple=(26,45,'hello',7.5)\n",
    "print(value_tuple[2:])"
   ]
  },
  {
   "cell_type": "code",
   "execution_count": 34,
   "id": "b0eea532-bb9f-4d74-93cd-2f1346e22409",
   "metadata": {},
   "outputs": [
    {
     "name": "stdout",
     "output_type": "stream",
     "text": [
      "(26, 45, 'hello', 7.5)\n"
     ]
    }
   ],
   "source": [
    "value_tuple=(26,45,'hello',7.5)\n",
    "print(value_tuple[:7])"
   ]
  },
  {
   "cell_type": "code",
   "execution_count": 36,
   "id": "1da7c7a4-cdb2-4bd2-a803-0d63f4145e36",
   "metadata": {},
   "outputs": [
    {
     "name": "stdout",
     "output_type": "stream",
     "text": [
      "(26, 45, 'hello', 7.5)\n"
     ]
    }
   ],
   "source": [
    "value_tuple=(26,45,'hello',7.5)\n",
    "print(value_tuple[:4])"
   ]
  },
  {
   "cell_type": "code",
   "execution_count": 38,
   "id": "ca1e7ae5-8766-4b79-be55-1d5b728ffed6",
   "metadata": {},
   "outputs": [
    {
     "name": "stdout",
     "output_type": "stream",
     "text": [
      "7.5\n"
     ]
    }
   ],
   "source": [
    "value_tuple=(26,45,'hello',7.5)\n",
    "print(value_tuple[-1])"
   ]
  },
  {
   "cell_type": "code",
   "execution_count": 44,
   "id": "623787c6-9cdd-45f4-9943-ff00000ed141",
   "metadata": {},
   "outputs": [
    {
     "name": "stdout",
     "output_type": "stream",
     "text": [
      "(26, 45, 'hello', 7.5)\n"
     ]
    }
   ],
   "source": [
    "value_tuple=(26,45,'hello',7.5)\n",
    "print(value_tuple[-4:])"
   ]
  },
  {
   "cell_type": "code",
   "execution_count": 46,
   "id": "6deead45-5cb0-4023-83fc-6765aacbbfda",
   "metadata": {},
   "outputs": [
    {
     "name": "stdout",
     "output_type": "stream",
     "text": [
      "(7.5, 'z', 5, 6.9)\n"
     ]
    }
   ],
   "source": [
    "value_tuple=(26,45,'hello',7.5,'z',5,6.9)\n",
    "print(value_tuple[-4:])"
   ]
  },
  {
   "cell_type": "code",
   "execution_count": 48,
   "id": "88f3a8ef-4922-4cfe-b5e1-ac13a1a387cf",
   "metadata": {},
   "outputs": [
    {
     "name": "stdout",
     "output_type": "stream",
     "text": [
      "(6.9, 'z', 'hello', 26)\n"
     ]
    }
   ],
   "source": [
    "value_tuple=(26,45,'hello',7.5,'z',5,6.9)\n",
    "print(value_tuple[::-2])"
   ]
  },
  {
   "cell_type": "code",
   "execution_count": 50,
   "id": "b17e14d9-1a4d-47a6-a10a-98997665bc58",
   "metadata": {},
   "outputs": [
    {
     "name": "stdout",
     "output_type": "stream",
     "text": [
      "('z', 5, 6.9)\n"
     ]
    }
   ],
   "source": [
    "value_tuple=(26,45,'hello',7.5,'z',5,6.9)\n",
    "print(value_tuple[-3::])"
   ]
  },
  {
   "cell_type": "code",
   "execution_count": 52,
   "id": "34561b76-0ad0-4edd-9bbd-5082ad601403",
   "metadata": {},
   "outputs": [
    {
     "name": "stdout",
     "output_type": "stream",
     "text": [
      "('hello', 7.5, 'z', 5, 6.9)\n"
     ]
    }
   ],
   "source": [
    "value_tuple=(26,45,'hello',7.5,'z',5,6.9)\n",
    "print(value_tuple[2::])"
   ]
  },
  {
   "cell_type": "code",
   "execution_count": 54,
   "id": "f8aead16-6641-4fd7-bc19-09b78a4cbba7",
   "metadata": {},
   "outputs": [
    {
     "name": "stdout",
     "output_type": "stream",
     "text": [
      "(26, 'hello', 'z', 6.9)\n"
     ]
    }
   ],
   "source": [
    "value_tuple=(26,45,'hello',7.5,'z',5,6.9)\n",
    "print(value_tuple[2::])"
   ]
  },
  {
   "cell_type": "code",
   "execution_count": 56,
   "id": "d677c281-5083-48f5-b9f8-6dce92cadb47",
   "metadata": {},
   "outputs": [
    {
     "name": "stdout",
     "output_type": "stream",
     "text": [
      "(45, 'hello', 7.5)\n"
     ]
    }
   ],
   "source": [
    "value_tuple=(26,45,'hello',7.5,'z',5,6.9)\n",
    "print(value_tuple[1:4])"
   ]
  },
  {
   "cell_type": "code",
   "execution_count": 60,
   "id": "85ef1999-3d73-471a-b513-62496198463e",
   "metadata": {},
   "outputs": [
    {
     "name": "stdout",
     "output_type": "stream",
     "text": [
      "(45, 'hello', 7.5, 'z', 5, 6.9)\n"
     ]
    }
   ],
   "source": [
    "value_tuple=(26,45,'hello',7.5,'z',5,6.9)\n",
    "print(value_tuple[1::1])"
   ]
  },
  {
   "cell_type": "code",
   "execution_count": 62,
   "id": "2d5b7cf2-4737-4342-9457-9665db7ff49c",
   "metadata": {},
   "outputs": [
    {
     "name": "stdout",
     "output_type": "stream",
     "text": [
      "(45, 'z')\n"
     ]
    }
   ],
   "source": [
    "value_tuple=(26,45,'hello',7.5,'z',5,6.9)\n",
    "print(value_tuple[1::3])"
   ]
  },
  {
   "cell_type": "code",
   "execution_count": 64,
   "id": "79694584-0057-4387-8134-69aba32843df",
   "metadata": {},
   "outputs": [
    {
     "name": "stdout",
     "output_type": "stream",
     "text": [
      "(6.9, 'z', 'hello', 26)\n"
     ]
    }
   ],
   "source": [
    "value_tuple=(26,45,'hello',7.5,'z',5,6.9)\n",
    "print(value_tuple[-1::-2])"
   ]
  },
  {
   "cell_type": "code",
   "execution_count": 66,
   "id": "01003bb1-8eb1-4765-9cd6-411999fd9166",
   "metadata": {},
   "outputs": [
    {
     "name": "stdout",
     "output_type": "stream",
     "text": [
      "(45, 7.5, 5)\n"
     ]
    }
   ],
   "source": [
    "value_tuple=(26,45,'hello',7.5,'z',5,6.9)\n",
    "print(value_tuple[1:6:2])"
   ]
  },
  {
   "cell_type": "code",
   "execution_count": 68,
   "id": "a6c49abc-ed5c-4ea8-bb7a-9800d67a6f06",
   "metadata": {},
   "outputs": [
    {
     "name": "stdout",
     "output_type": "stream",
     "text": [
      "(45,)\n"
     ]
    }
   ],
   "source": [
    "value_tuple=(26,45,'hello',7.5,'z',5,6.9)\n",
    "print(value_tuple[1:3:2])"
   ]
  },
  {
   "cell_type": "code",
   "execution_count": 70,
   "id": "c23c3dae-5ff6-4243-9846-a335681b81ec",
   "metadata": {},
   "outputs": [
    {
     "ename": "TypeError",
     "evalue": "'tuple' object doesn't support item deletion",
     "output_type": "error",
     "traceback": [
      "\u001b[1;31m---------------------------------------------------------------------------\u001b[0m",
      "\u001b[1;31mTypeError\u001b[0m                                 Traceback (most recent call last)",
      "Cell \u001b[1;32mIn[70], line 2\u001b[0m\n\u001b[0;32m      1\u001b[0m value_tuple\u001b[38;5;241m=\u001b[39m(\u001b[38;5;241m26\u001b[39m,\u001b[38;5;241m45\u001b[39m,\u001b[38;5;124m'\u001b[39m\u001b[38;5;124mhello\u001b[39m\u001b[38;5;124m'\u001b[39m,\u001b[38;5;241m7.5\u001b[39m,\u001b[38;5;124m'\u001b[39m\u001b[38;5;124mz\u001b[39m\u001b[38;5;124m'\u001b[39m,\u001b[38;5;241m5\u001b[39m,\u001b[38;5;241m6.9\u001b[39m)\n\u001b[1;32m----> 2\u001b[0m \u001b[38;5;28;01mdel\u001b[39;00m(value_tuple[\u001b[38;5;241m1\u001b[39m])\n\u001b[0;32m      3\u001b[0m \u001b[38;5;28mprint\u001b[39m(value_tuple)\n",
      "\u001b[1;31mTypeError\u001b[0m: 'tuple' object doesn't support item deletion"
     ]
    }
   ],
   "source": [
    "value_tuple=(26,45,'hello',7.5,'z',5,6.9)\n",
    "del(value_tuple[1])\n",
    "print(value_tuple)"
   ]
  },
  {
   "cell_type": "code",
   "execution_count": null,
   "id": "ad55f31b-b87a-479b-9252-0e6ffa18b86d",
   "metadata": {},
   "outputs": [],
   "source": []
  }
 ],
 "metadata": {
  "kernelspec": {
   "display_name": "Python 3 (ipykernel)",
   "language": "python",
   "name": "python3"
  },
  "language_info": {
   "codemirror_mode": {
    "name": "ipython",
    "version": 3
   },
   "file_extension": ".py",
   "mimetype": "text/x-python",
   "name": "python",
   "nbconvert_exporter": "python",
   "pygments_lexer": "ipython3",
   "version": "3.12.4"
  }
 },
 "nbformat": 4,
 "nbformat_minor": 5
}
