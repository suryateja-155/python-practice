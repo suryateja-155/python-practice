{
 "cells": [
  {
   "cell_type": "code",
   "execution_count": 14,
   "id": "f130f062-d488-418f-b1c5-2048a555b9a5",
   "metadata": {},
   "outputs": [
    {
     "name": "stdin",
     "output_type": "stream",
     "text": [
      " 11\n"
     ]
    },
    {
     "name": "stdout",
     "output_type": "stream",
     "text": [
      "-1\n"
     ]
    }
   ],
   "source": [
    "#find the index of an element in an array\n",
    "import numpy as np\n",
    "s_ele=int(input())\n",
    "x=np.array([10,20,30,40,50])\n",
    "def i_ele(x,s_ele):\n",
    "    try:\n",
    "        n=len(x)\n",
    "        for i in range(n):\n",
    "            if x[i] == s_ele:\n",
    "                return i\n",
    "        raise ValueError(\"Element not found\")\n",
    "    except ValueError:\n",
    "      return -1\n",
    "result = i_ele(x,s_ele)\n",
    "print(result)"
   ]
  },
  {
   "cell_type": "code",
   "execution_count": null,
   "id": "42eab453-ccbd-4461-9ca4-b538631ed049",
   "metadata": {},
   "outputs": [],
   "source": []
  }
 ],
 "metadata": {
  "kernelspec": {
   "display_name": "Python 3 (ipykernel)",
   "language": "python",
   "name": "python3"
  },
  "language_info": {
   "codemirror_mode": {
    "name": "ipython",
    "version": 3
   },
   "file_extension": ".py",
   "mimetype": "text/x-python",
   "name": "python",
   "nbconvert_exporter": "python",
   "pygments_lexer": "ipython3",
   "version": "3.12.4"
  }
 },
 "nbformat": 4,
 "nbformat_minor": 5
}
