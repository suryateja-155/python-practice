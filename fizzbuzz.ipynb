{
 "cells": [
  {
   "cell_type": "code",
   "execution_count": 7,
   "id": "10022eae-a2c3-430f-9f15-d578544e8602",
   "metadata": {},
   "outputs": [
    {
     "name": "stdin",
     "output_type": "stream",
     "text": [
      " 15\n"
     ]
    }
   ],
   "source": [
    "n=int(input())\n",
    "for i in range(1,0):\n",
    "    if (i%3)== 0:\n",
    "        print(\"fizz\")\n",
    "    elif (i%5)==0:\n",
    "        print(\"buzz\")\n",
    "    elif (i%3==0) and (i%5==0):\n",
    "        print(\"fizzbuzz\")\n",
    "    else:\n",
    "        print(i)"
   ]
  },
  {
   "cell_type": "code",
   "execution_count": null,
   "id": "4a6cd651-fc59-40d2-bc93-41a94cdb7eda",
   "metadata": {},
   "outputs": [],
   "source": []
  }
 ],
 "metadata": {
  "kernelspec": {
   "display_name": "Python 3 (ipykernel)",
   "language": "python",
   "name": "python3"
  },
  "language_info": {
   "codemirror_mode": {
    "name": "ipython",
    "version": 3
   },
   "file_extension": ".py",
   "mimetype": "text/x-python",
   "name": "python",
   "nbconvert_exporter": "python",
   "pygments_lexer": "ipython3",
   "version": "3.12.4"
  }
 },
 "nbformat": 4,
 "nbformat_minor": 5
}
