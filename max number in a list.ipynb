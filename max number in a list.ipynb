{
 "cells": [
  {
   "cell_type": "code",
   "execution_count": null,
   "id": "59973ce5-c39a-4710-80ac-1afbc660518e",
   "metadata": {},
   "outputs": [
    {
     "name": "stdin",
     "output_type": "stream",
     "text": [
      " 5\n",
      " 3\n",
      " 4\n",
      " 12\n"
     ]
    }
   ],
   "source": [
    "#a=[1,7,2,5,-1]\n",
    "n=int(input())\n",
    "list_1=[]\n",
    "\n",
    "for i in range(n):\n",
    "    list_1.append(int(input()))\n",
    "print(max(list_1))"
   ]
  },
  {
   "cell_type": "code",
   "execution_count": null,
   "id": "0fcc5b89-dec2-4647-b876-420e27822e1d",
   "metadata": {},
   "outputs": [],
   "source": []
  }
 ],
 "metadata": {
  "kernelspec": {
   "display_name": "Python 3 (ipykernel)",
   "language": "python",
   "name": "python3"
  },
  "language_info": {
   "codemirror_mode": {
    "name": "ipython",
    "version": 3
   },
   "file_extension": ".py",
   "mimetype": "text/x-python",
   "name": "python",
   "nbconvert_exporter": "python",
   "pygments_lexer": "ipython3",
   "version": "3.12.4"
  }
 },
 "nbformat": 4,
 "nbformat_minor": 5
}
