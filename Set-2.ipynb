{
 "cells": [
  {
   "cell_type": "code",
   "execution_count": 7,
   "id": "556bc103-7f4c-4916-8d99-9c94278327fa",
   "metadata": {},
   "outputs": [
    {
     "name": "stdout",
     "output_type": "stream",
     "text": [
      "{'dec', 'feb', 'mar', 'jan', 'may', 'oct'}\n"
     ]
    }
   ],
   "source": [
    "month1_set={\"jan\",\"feb\",\"dec\",\"mar\"}\n",
    "month2_set={\"may\",\"jan\",\"oct\",\"mar\"}\n",
    "print(month1_set| month2_set)"
   ]
  },
  {
   "cell_type": "code",
   "execution_count": 11,
   "id": "4ba3f4fe-6053-4443-ba49-5a6b3aadd4da",
   "metadata": {},
   "outputs": [
    {
     "name": "stdout",
     "output_type": "stream",
     "text": [
      "{'dec', 'feb', 'mar', 'jan', 'may', 'oct'}\n"
     ]
    }
   ],
   "source": [
    "month1_set={\"jan\",\"feb\",\"dec\",\"mar\"}\n",
    "month2_set={\"may\",\"jan\",\"oct\",\"mar\"}\n",
    "print(month1_set.union(month2_set))"
   ]
  },
  {
   "cell_type": "code",
   "execution_count": 13,
   "id": "d12c4fb7-548a-4129-88bb-432d795db4cf",
   "metadata": {},
   "outputs": [
    {
     "name": "stdout",
     "output_type": "stream",
     "text": [
      "{'mar', 'jan'}\n"
     ]
    }
   ],
   "source": [
    "month1_set={\"jan\",\"feb\",\"dec\",\"mar\"}\n",
    "month2_set={\"may\",\"jan\",\"oct\",\"mar\"}\n",
    "print(month1_set.intersection(month2_set))"
   ]
  },
  {
   "cell_type": "code",
   "execution_count": 17,
   "id": "8fc205ae-9402-4f1a-a405-185d98036240",
   "metadata": {},
   "outputs": [
    {
     "name": "stdout",
     "output_type": "stream",
     "text": [
      "{'dec', 'feb'}\n"
     ]
    }
   ],
   "source": [
    "month1_set={\"jan\",\"feb\",\"dec\",\"mar\"}\n",
    "month2_set={\"may\",\"jan\",\"oct\",\"mar\"}\n",
    "print(month1_set-month2_set)"
   ]
  },
  {
   "cell_type": "code",
   "execution_count": 19,
   "id": "0683f55d-1caf-4392-92b9-fdf6d1902a0c",
   "metadata": {},
   "outputs": [
    {
     "name": "stdout",
     "output_type": "stream",
     "text": [
      "{'mar', 'jan'}\n"
     ]
    }
   ],
   "source": [
    "month1_set={\"jan\",\"feb\",\"dec\",\"mar\"}\n",
    "month2_set={\"may\",\"jan\",\"oct\",\"mar\"}\n",
    "print(month1_set&month2_set)"
   ]
  },
  {
   "cell_type": "code",
   "execution_count": 21,
   "id": "59b95ecb-d294-4c7d-972b-238ab23e961b",
   "metadata": {},
   "outputs": [
    {
     "name": "stdout",
     "output_type": "stream",
     "text": [
      "{'dec', 'feb'}\n"
     ]
    }
   ],
   "source": [
    "month1_set={\"jan\",\"feb\",\"dec\",\"mar\"}\n",
    "month2_set={\"may\",\"jan\",\"oct\",\"mar\"}\n",
    "print(month1_set.difference(month2_set))"
   ]
  },
  {
   "cell_type": "code",
   "execution_count": 23,
   "id": "31665468-6729-42c8-a306-cc0b8d092dfe",
   "metadata": {},
   "outputs": [
    {
     "name": "stdout",
     "output_type": "stream",
     "text": [
      "True\n",
      "False\n",
      "False\n"
     ]
    }
   ],
   "source": [
    "month1_set={\"jan\",\"feb\",\"dec\",\"mar\"}\n",
    "month2_set={\"jan\",\"feb\"}\n",
    "print(month1_set>month2_set)\n",
    "print(month1_set<month2_set)\n",
    "print(month1_set==month2_set)"
   ]
  },
  {
   "cell_type": "code",
   "execution_count": null,
   "id": "95a02de4-5ef3-4f67-a06a-b557bd8ee20c",
   "metadata": {},
   "outputs": [],
   "source": []
  }
 ],
 "metadata": {
  "kernelspec": {
   "display_name": "Python 3 (ipykernel)",
   "language": "python",
   "name": "python3"
  },
  "language_info": {
   "codemirror_mode": {
    "name": "ipython",
    "version": 3
   },
   "file_extension": ".py",
   "mimetype": "text/x-python",
   "name": "python",
   "nbconvert_exporter": "python",
   "pygments_lexer": "ipython3",
   "version": "3.12.4"
  }
 },
 "nbformat": 4,
 "nbformat_minor": 5
}
