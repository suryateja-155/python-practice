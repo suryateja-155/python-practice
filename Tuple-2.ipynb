{
 "cells": [
  {
   "cell_type": "code",
   "execution_count": 9,
   "id": "73d8bebe-8449-47bc-ae41-2a1dbe4f3dd0",
   "metadata": {},
   "outputs": [
    {
     "name": "stdout",
     "output_type": "stream",
     "text": [
      "('hello',)\n",
      "(('hello',),)\n",
      "((('hello',),),)\n"
     ]
    }
   ],
   "source": [
    "tuple=('hello')\n",
    "n=3\n",
    "for i in range("
   ]
  },
  {
   "cell_type": "code",
   "execution_count": 11,
   "id": "ec977c1d-3952-4ab6-865b-bd20f771c733",
   "metadata": {},
   "outputs": [
    {
     "name": "stdout",
     "output_type": "stream",
     "text": [
      "5\n"
     ]
    }
   ],
   "source": [
    "tuple=('developer',5,8.9,'r',8)\n",
    "print(len(tuple))"
   ]
  },
  {
   "cell_type": "code",
   "execution_count": 13,
   "id": "01981b1d-5bd6-4cb3-9062-187f11b35111",
   "metadata": {},
   "outputs": [
    {
     "name": "stdout",
     "output_type": "stream",
     "text": [
      "89\n"
     ]
    }
   ],
   "source": [
    "tuple=(9,5,89,4,8)\n",
    "print(max(tuple))"
   ]
  },
  {
   "cell_type": "code",
   "execution_count": 17,
   "id": "6154f5fd-1362-4fbb-9084-919d76c95fea",
   "metadata": {},
   "outputs": [
    {
     "name": "stdout",
     "output_type": "stream",
     "text": [
      "4\n"
     ]
    }
   ],
   "source": [
    "tuple=(9,5,89,4,8)\n",
    "print(min(tuple))"
   ]
  },
  {
   "cell_type": "code",
   "execution_count": 19,
   "id": "1781e5c6-2eb0-45a6-bac0-12242fb3d85d",
   "metadata": {},
   "outputs": [
    {
     "name": "stdout",
     "output_type": "stream",
     "text": [
      "[4, 5, 8, 9, 89]\n"
     ]
    }
   ],
   "source": [
    "tuple=(9,5,89,4,8)\n",
    "print(sorted(tuple))"
   ]
  },
  {
   "cell_type": "code",
   "execution_count": 23,
   "id": "b4c3542a-07f6-41cd-8ab9-a8a50c7c43ab",
   "metadata": {},
   "outputs": [
    {
     "name": "stdout",
     "output_type": "stream",
     "text": [
      "True\n"
     ]
    }
   ],
   "source": [
    "tuple=(0,1)\n",
    "print(any(tuple))"
   ]
  },
  {
   "cell_type": "code",
   "execution_count": 25,
   "id": "1fc42fa1-9e4d-412d-8542-6ad3f37b1c22",
   "metadata": {},
   "outputs": [
    {
     "name": "stdout",
     "output_type": "stream",
     "text": [
      "apple\n",
      "byte\n",
      "computer\n"
     ]
    }
   ],
   "source": [
    "tuple=(\"apple\",\"byte\",\"computer\")\n",
    "for i in tuple:\n",
    "    print(i)"
   ]
  },
  {
   "cell_type": "code",
   "execution_count": 33,
   "id": "a3a4a3fd-9d0f-4fa4-a7b7-0d2df0ad8d19",
   "metadata": {},
   "outputs": [
    {
     "ename": "IndentationError",
     "evalue": "expected an indented block after 'for' statement on line 3 (2334232157.py, line 4)",
     "output_type": "error",
     "traceback": [
      "\u001b[1;36m  Cell \u001b[1;32mIn[33], line 4\u001b[1;36m\u001b[0m\n\u001b[1;33m    print(tuple[i])\u001b[0m\n\u001b[1;37m    ^\u001b[0m\n\u001b[1;31mIndentationError\u001b[0m\u001b[1;31m:\u001b[0m expected an indented block after 'for' statement on line 3\n"
     ]
    }
   ],
   "source": [
    "tuple=(\"apple\",\"byte\",\"computer\")\n",
    "n=2\n",
    "for i in range(n):\n",
    "print(tuple[i])"
   ]
  },
  {
   "cell_type": "code",
   "execution_count": 35,
   "id": "df36ef10-bdd5-4290-ba76-6a8951a95ba9",
   "metadata": {},
   "outputs": [
    {
     "ename": "IndentationError",
     "evalue": "expected an indented block after 'for' statement on line 3 (1000052937.py, line 4)",
     "output_type": "error",
     "traceback": [
      "\u001b[1;36m  Cell \u001b[1;32mIn[35], line 4\u001b[1;36m\u001b[0m\n\u001b[1;33m    print(tuple[i])\u001b[0m\n\u001b[1;37m    ^\u001b[0m\n\u001b[1;31mIndentationError\u001b[0m\u001b[1;31m:\u001b[0m expected an indented block after 'for' statement on line 3\n"
     ]
    }
   ],
   "source": [
    "tuple=(\"apple\",\"byte\",\"computer\")\n",
    "n=2\n",
    "for i in range(n):\n",
    "print(tuple[i])\n",
    "break"
   ]
  },
  {
   "cell_type": "code",
   "execution_count": 37,
   "id": "82c86f6d-02cb-44fe-84c1-eb7924dbbf7b",
   "metadata": {},
   "outputs": [
    {
     "name": "stdout",
     "output_type": "stream",
     "text": [
      "2\n",
      "1\n",
      "0\n"
     ]
    }
   ],
   "source": [
    "tuple=(3,7,'p','y','z',9.5,'y')\n",
    "print(tuple.count('y'))\n",
    "print(tuple.count(7))\n",
    "print(tuple.count(9))"
   ]
  },
  {
   "cell_type": "code",
   "execution_count": 39,
   "id": "74ef431e-20da-4f3f-b5c8-04ce9fca2b0b",
   "metadata": {},
   "outputs": [
    {
     "name": "stdout",
     "output_type": "stream",
     "text": [
      "3\n",
      "1\n"
     ]
    }
   ],
   "source": [
    "tuple=(3,7,'p','y','z',9.5,'y')\n",
    "print(tuple.index('y'))\n",
    "print(tuple.index(7))"
   ]
  },
  {
   "cell_type": "code",
   "execution_count": null,
   "id": "e5815950-844d-4b95-9238-b5364af1839b",
   "metadata": {},
   "outputs": [],
   "source": []
  }
 ],
 "metadata": {
  "kernelspec": {
   "display_name": "Python 3 (ipykernel)",
   "language": "python",
   "name": "python3"
  },
  "language_info": {
   "codemirror_mode": {
    "name": "ipython",
    "version": 3
   },
   "file_extension": ".py",
   "mimetype": "text/x-python",
   "name": "python",
   "nbconvert_exporter": "python",
   "pygments_lexer": "ipython3",
   "version": "3.12.4"
  }
 },
 "nbformat": 4,
 "nbformat_minor": 5
}
