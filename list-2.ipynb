{
 "cells": [
  {
   "cell_type": "code",
   "execution_count": 3,
   "id": "061b65ed-2405-4501-b676-9b8a3f470541",
   "metadata": {},
   "outputs": [
    {
     "data": {
      "text/plain": [
       "[1, 'xyz', 84.9, 'a']"
      ]
     },
     "execution_count": 3,
     "metadata": {},
     "output_type": "execute_result"
    }
   ],
   "source": [
    "information = [1,'xyz',84.9,'a']\n",
    "information"
   ]
  },
  {
   "cell_type": "code",
   "execution_count": 5,
   "id": "a672bd26-b249-460a-b1ea-9b7e3e7ae1bf",
   "metadata": {},
   "outputs": [
    {
     "data": {
      "text/plain": [
       "[1, 'xyz', 84.9, 'a', 'H', 'E', 'L', 'L', 'O']"
      ]
     },
     "execution_count": 5,
     "metadata": {},
     "output_type": "execute_result"
    }
   ],
   "source": [
    "information += 'HELLO'\n",
    "information"
   ]
  },
  {
   "cell_type": "code",
   "execution_count": 7,
   "id": "5ac194ab-bd9c-46ec-aa20-5802b3c40b27",
   "metadata": {},
   "outputs": [
    {
     "data": {
      "text/plain": [
       "[]"
      ]
     },
     "execution_count": 7,
     "metadata": {},
     "output_type": "execute_result"
    }
   ],
   "source": [
    "information[:0]"
   ]
  },
  {
   "cell_type": "code",
   "execution_count": 9,
   "id": "061dbbbf-4e72-48be-abee-ce6592840d08",
   "metadata": {},
   "outputs": [
    {
     "data": {
      "text/plain": [
       "[1]"
      ]
     },
     "execution_count": 9,
     "metadata": {},
     "output_type": "execute_result"
    }
   ],
   "source": [
    "information[:1]"
   ]
  },
  {
   "cell_type": "code",
   "execution_count": 11,
   "id": "e75c98af-35e0-4f45-8eab-3b5bf6cf56c8",
   "metadata": {},
   "outputs": [
    {
     "data": {
      "text/plain": [
       "[1, 'xyz', 84.9]"
      ]
     },
     "execution_count": 11,
     "metadata": {},
     "output_type": "execute_result"
    }
   ],
   "source": [
    "information[:3]"
   ]
  },
  {
   "cell_type": "code",
   "execution_count": 13,
   "id": "5cad6e44-3801-4e70-bdea-f27e13bf90f1",
   "metadata": {},
   "outputs": [
    {
     "data": {
      "text/plain": [
       "[1, 'H', 'O']"
      ]
     },
     "execution_count": 13,
     "metadata": {},
     "output_type": "execute_result"
    }
   ],
   "source": [
    " information[::4]"
   ]
  },
  {
   "cell_type": "code",
   "execution_count": 15,
   "id": "d88ce434-1928-4db7-bf31-749ce1f69889",
   "metadata": {},
   "outputs": [
    {
     "data": {
      "text/plain": [
       "['xyz', 'a', 'E']"
      ]
     },
     "execution_count": 15,
     "metadata": {},
     "output_type": "execute_result"
    }
   ],
   "source": [
    "information[1:6:2]"
   ]
  },
  {
   "cell_type": "code",
   "execution_count": 23,
   "id": "5ef40005-647f-460a-84b1-2fda84ccbcce",
   "metadata": {},
   "outputs": [
    {
     "data": {
      "text/plain": [
       "[1, 'a', 'L']"
      ]
     },
     "execution_count": 23,
     "metadata": {},
     "output_type": "execute_result"
    }
   ],
   "source": [
    "information[:7:3]"
   ]
  },
  {
   "cell_type": "code",
   "execution_count": 25,
   "id": "b324bb4c-7669-4f1d-9368-45110433d0d2",
   "metadata": {},
   "outputs": [
    {
     "data": {
      "text/plain": [
       "['O', 'L', 'L', 'E', 'H', 'a', 84.9, 'xyz', 1]"
      ]
     },
     "execution_count": 25,
     "metadata": {},
     "output_type": "execute_result"
    }
   ],
   "source": [
    "information[::-1]"
   ]
  },
  {
   "cell_type": "code",
   "execution_count": 31,
   "id": "cea80222-fb4e-4138-8a97-0987c437fdf0",
   "metadata": {},
   "outputs": [],
   "source": [
    "student_2=[2,\"STU\",8.58,\"Female\",\"India\",\"9876543210\"]\n"
   ]
  },
  {
   "cell_type": "code",
   "execution_count": 33,
   "id": "1f9edce2-1c52-469d-a0ac-65d540bbef55",
   "metadata": {},
   "outputs": [
    {
     "data": {
      "text/plain": [
       "['9876543210', 8.58]"
      ]
     },
     "execution_count": 33,
     "metadata": {},
     "output_type": "execute_result"
    }
   ],
   "source": [
    "student_2[::-3]"
   ]
  },
  {
   "cell_type": "code",
   "execution_count": 35,
   "id": "25f52b38-715d-40e7-add3-9d6858d512b6",
   "metadata": {},
   "outputs": [
    {
     "data": {
      "text/plain": [
       "[2, 8.58, 'India']"
      ]
     },
     "execution_count": 35,
     "metadata": {},
     "output_type": "execute_result"
    }
   ],
   "source": [
    "student_2[::2]"
   ]
  },
  {
   "cell_type": "code",
   "execution_count": 37,
   "id": "148dca50-b2e7-4e4e-a1cb-8244e2a3bfcb",
   "metadata": {},
   "outputs": [
    {
     "data": {
      "text/plain": [
       "[1, 3, 5, 7, 9, 11, 13, 15, 17, 19]"
      ]
     },
     "execution_count": 37,
     "metadata": {},
     "output_type": "execute_result"
    }
   ],
   "source": [
    "list_1=list(range(1,20,2))\n",
    "list_1"
   ]
  },
  {
   "cell_type": "code",
   "execution_count": 39,
   "id": "44e13a45-98b8-4262-a756-72ace10e5d55",
   "metadata": {},
   "outputs": [
    {
     "name": "stdout",
     "output_type": "stream",
     "text": [
      "[1, 2, 3, 4, 5, 6, 7, 8, 9, 10]\n",
      "[1, 3, 5, 7, 9]\n"
     ]
    }
   ],
   "source": [
    "list1=list(range(1,11))\n",
    "print(list1)\n",
    "odd = list1[::2]\n",
    "print(odd)"
   ]
  },
  {
   "cell_type": "code",
   "execution_count": 47,
   "id": "9d713a95-378d-4c50-ba39-86ca00af8922",
   "metadata": {},
   "outputs": [
    {
     "name": "stdout",
     "output_type": "stream",
     "text": [
      "[2, 4, 6, 8, 10]\n"
     ]
    }
   ],
   "source": [
    "even=list1[1::2]\n",
    "print(even)\n"
   ]
  },
  {
   "cell_type": "code",
   "execution_count": 49,
   "id": "612726a2-01fd-4d02-ab1f-8fa5a040e721",
   "metadata": {},
   "outputs": [
    {
     "name": "stdout",
     "output_type": "stream",
     "text": [
      "['a', 'b', 'c', 'd']\n",
      "['python', 'list']\n"
     ]
    }
   ],
   "source": [
    "list_1=['a','b','c','d']\n",
    "print(list_1)\n",
    "list_2=['python','list']\n",
    "print(list_2)"
   ]
  },
  {
   "cell_type": "code",
   "execution_count": 51,
   "id": "d48ae5d5-2f8f-4f3f-92dc-23d715a97e26",
   "metadata": {},
   "outputs": [
    {
     "data": {
      "text/plain": [
       "['a', 'b', 'c', 'd', 'python', 'list']"
      ]
     },
     "execution_count": 51,
     "metadata": {},
     "output_type": "execute_result"
    }
   ],
   "source": [
    "merged=list_1+list_2\n",
    "merged"
   ]
  },
  {
   "cell_type": "code",
   "execution_count": 53,
   "id": "f87e11f9-3164-4970-92bc-4eb757471f10",
   "metadata": {},
   "outputs": [
    {
     "name": "stdin",
     "output_type": "stream",
     "text": [
      " surya\n"
     ]
    },
    {
     "data": {
      "text/plain": [
       "['s', 'u', 'r', 'y', 'a']"
      ]
     },
     "execution_count": 53,
     "metadata": {},
     "output_type": "execute_result"
    }
   ],
   "source": [
    "string=input()\n",
    "list_1=list(string)\n",
    "list_1"
   ]
  },
  {
   "cell_type": "code",
   "execution_count": 55,
   "id": "ca705922-9dd3-47de-b556-42e1fec40ab0",
   "metadata": {},
   "outputs": [
    {
     "name": "stdout",
     "output_type": "stream",
     "text": [
      "[1, 2, 3, 4]\n"
     ]
    }
   ],
   "source": [
    "num=[1,2,3,4]\n",
    "print(num)"
   ]
  },
  {
   "cell_type": "code",
   "execution_count": 57,
   "id": "78a2d16e-0d28-4db8-8437-53ce55c556ad",
   "metadata": {},
   "outputs": [
    {
     "data": {
      "text/plain": [
       "[1, 2, 3, 4, 6]"
      ]
     },
     "execution_count": 57,
     "metadata": {},
     "output_type": "execute_result"
    }
   ],
   "source": [
    "num.append(6)\n",
    "num"
   ]
  },
  {
   "cell_type": "code",
   "execution_count": 59,
   "id": "5c13db3e-bb6a-4b7f-9153-1e6bb8e5234b",
   "metadata": {},
   "outputs": [
    {
     "data": {
      "text/plain": [
       "[1, 2, 3, 4, ['one', 'two', 'three', 'four']]"
      ]
     },
     "execution_count": 59,
     "metadata": {},
     "output_type": "execute_result"
    }
   ],
   "source": [
    "num=[1,2,3,4]\n",
    "add_element=[\"one\",\"two\",\"three\",\"four\"]\n",
    "num.append(add_element)\n",
    "num"
   ]
  },
  {
   "cell_type": "code",
   "execution_count": 61,
   "id": "b3f4a298-820d-4c29-8845-ea20e1865ff9",
   "metadata": {},
   "outputs": [
    {
     "ename": "TypeError",
     "evalue": "'int' object is not iterable",
     "output_type": "error",
     "traceback": [
      "\u001b[1;31m---------------------------------------------------------------------------\u001b[0m",
      "\u001b[1;31mTypeError\u001b[0m                                 Traceback (most recent call last)",
      "Cell \u001b[1;32mIn[61], line 3\u001b[0m\n\u001b[0;32m      1\u001b[0m num\u001b[38;5;241m=\u001b[39m[\u001b[38;5;241m1\u001b[39m,\u001b[38;5;241m2\u001b[39m,\u001b[38;5;241m3\u001b[39m,\u001b[38;5;241m4\u001b[39m]\n\u001b[0;32m      2\u001b[0m x\u001b[38;5;241m=\u001b[39m\u001b[38;5;241m6\u001b[39m\n\u001b[1;32m----> 3\u001b[0m num\u001b[38;5;241m.\u001b[39mextend(x)\n",
      "\u001b[1;31mTypeError\u001b[0m: 'int' object is not iterable"
     ]
    }
   ],
   "source": [
    "num=[1,2,3,4]\n",
    "x=6\n",
    "num.extend(x)"
   ]
  },
  {
   "cell_type": "code",
   "execution_count": 63,
   "id": "0889dd30-383c-46bd-a233-e3c2ea6ab5ea",
   "metadata": {},
   "outputs": [
    {
     "name": "stdout",
     "output_type": "stream",
     "text": [
      "[1, 2, 3, 4, 'one', 'two', 'three', 'four']\n"
     ]
    }
   ],
   "source": [
    "num=[1,2,3,4]\n",
    "add_element=[\"one\",\"two\",\"three\",\"four\"]\n",
    "num.extend(add_element)\n",
    "print(num)"
   ]
  },
  {
   "cell_type": "code",
   "execution_count": null,
   "id": "a6d119c4-ea5e-43db-9687-74dd54a06db8",
   "metadata": {},
   "outputs": [],
   "source": []
  }
 ],
 "metadata": {
  "kernelspec": {
   "display_name": "Python 3 (ipykernel)",
   "language": "python",
   "name": "python3"
  },
  "language_info": {
   "codemirror_mode": {
    "name": "ipython",
    "version": 3
   },
   "file_extension": ".py",
   "mimetype": "text/x-python",
   "name": "python",
   "nbconvert_exporter": "python",
   "pygments_lexer": "ipython3",
   "version": "3.12.4"
  }
 },
 "nbformat": 4,
 "nbformat_minor": 5
}
