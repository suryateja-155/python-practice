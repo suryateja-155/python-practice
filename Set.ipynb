{
 "cells": [
  {
   "cell_type": "code",
   "execution_count": 3,
   "id": "acbf3614-8390-4285-9058-56c60f89d233",
   "metadata": {},
   "outputs": [
    {
     "name": "stdout",
     "output_type": "stream",
     "text": [
      "{}\n"
     ]
    }
   ],
   "source": [
    "set={}\n",
    "print(set)"
   ]
  },
  {
   "cell_type": "code",
   "execution_count": 7,
   "id": "8740112f-948f-48a7-a812-033138852e63",
   "metadata": {},
   "outputs": [
    {
     "name": "stdout",
     "output_type": "stream",
     "text": [
      "{'o', 2, 'python', 5.9}\n"
     ]
    }
   ],
   "source": [
    "value_set={2,5.9,\"python\",'o'}\n",
    "print(value_set)"
   ]
  },
  {
   "cell_type": "code",
   "execution_count": 9,
   "id": "8ca82107-8c0c-4406-a088-723afb8e2271",
   "metadata": {},
   "outputs": [
    {
     "name": "stdout",
     "output_type": "stream",
     "text": [
      "<class 'dict'>\n"
     ]
    }
   ],
   "source": [
    "value_set={2}\n",
    "print(type(set))"
   ]
  },
  {
   "cell_type": "code",
   "execution_count": 11,
   "id": "1659523e-8af9-4040-8eec-7c1928cabff4",
   "metadata": {},
   "outputs": [
    {
     "ename": "TypeError",
     "evalue": "'set' object is not subscriptable",
     "output_type": "error",
     "traceback": [
      "\u001b[1;31m---------------------------------------------------------------------------\u001b[0m",
      "\u001b[1;31mTypeError\u001b[0m                                 Traceback (most recent call last)",
      "Cell \u001b[1;32mIn[11], line 2\u001b[0m\n\u001b[0;32m      1\u001b[0m value_set\u001b[38;5;241m=\u001b[39m{\u001b[38;5;241m2\u001b[39m,\u001b[38;5;241m6\u001b[39m,\u001b[38;5;241m9\u001b[39m}\n\u001b[1;32m----> 2\u001b[0m \u001b[38;5;28mprint\u001b[39m(value_set[\u001b[38;5;241m0\u001b[39m])\n",
      "\u001b[1;31mTypeError\u001b[0m: 'set' object is not subscriptable"
     ]
    }
   ],
   "source": [
    "value_set={2,6,9}\n",
    "print(value_set[0])"
   ]
  },
  {
   "cell_type": "code",
   "execution_count": 13,
   "id": "a62ff482-3aa3-46f9-9854-952312669419",
   "metadata": {},
   "outputs": [
    {
     "name": "stdout",
     "output_type": "stream",
     "text": [
      "2\n",
      "5\n",
      "PYTHON\n",
      "9.4\n",
      "a\n"
     ]
    }
   ],
   "source": [
    "value_set={2,'PYTHON','a',5,9.4}\n",
    "for i in value_set:\n",
    "    print(i)"
   ]
  },
  {
   "cell_type": "code",
   "execution_count": 15,
   "id": "5a9f997b-6098-4c50-8331-8a1e61371ecd",
   "metadata": {},
   "outputs": [
    {
     "name": "stdout",
     "output_type": "stream",
     "text": [
      "False\n"
     ]
    }
   ],
   "source": [
    "value_set={2,'PYTHON','a',5,9.4}\n",
    "print(7 in value_set)"
   ]
  },
  {
   "cell_type": "code",
   "execution_count": 17,
   "id": "199cae5b-1ee7-4caf-8e80-b0340f66a8c4",
   "metadata": {},
   "outputs": [
    {
     "name": "stdout",
     "output_type": "stream",
     "text": [
      "True\n"
     ]
    }
   ],
   "source": [
    "value_set={2,'PYTHON','a',5,9.4}\n",
    "print('PYTHON' in value_set)"
   ]
  },
  {
   "cell_type": "code",
   "execution_count": 19,
   "id": "a94c3eef-64e2-45b8-b250-df60f9889baa",
   "metadata": {},
   "outputs": [
    {
     "name": "stdout",
     "output_type": "stream",
     "text": [
      "{2, 5, 'apple', 'PYTHON', 9.4, 'a'}\n"
     ]
    }
   ],
   "source": [
    "value_set={2,'PYTHON','a',5,9.4}\n",
    "value_set.add(\"apple\")\n",
    "print(value_set)"
   ]
  },
  {
   "cell_type": "code",
   "execution_count": 21,
   "id": "cd009b0b-61e9-433d-ab5e-27f9141bd69f",
   "metadata": {},
   "outputs": [
    {
     "name": "stdout",
     "output_type": "stream",
     "text": [
      "5\n"
     ]
    }
   ],
   "source": [
    "value_set={2,'PYTHON','a',5,9.4}\n",
    "print(len(value_set))"
   ]
  },
  {
   "cell_type": "code",
   "execution_count": 23,
   "id": "23cafd4c-16da-4a40-9f4e-c4aa1483b819",
   "metadata": {},
   "outputs": [
    {
     "name": "stdout",
     "output_type": "stream",
     "text": [
      "{2, 5, 9.4, 'a'}\n"
     ]
    }
   ],
   "source": [
    "value_set={2,'PYTHON','a',5,9.4}\n",
    "value_set.remove('PYTHON')\n",
    "print(value_set)"
   ]
  },
  {
   "cell_type": "code",
   "execution_count": 25,
   "id": "71a0c7d3-5727-426c-8481-98c441034a30",
   "metadata": {},
   "outputs": [
    {
     "name": "stdout",
     "output_type": "stream",
     "text": [
      "{2, 5, 9.4, 'a'}\n"
     ]
    }
   ],
   "source": [
    "value_set={2,'PYTHON','a',5,9.4}\n",
    "value_set.discard('PYTHON')\n",
    "print(value_set)"
   ]
  },
  {
   "cell_type": "code",
   "execution_count": 27,
   "id": "8a21ea99-10b7-43ac-a2f1-6e402af8dd42",
   "metadata": {},
   "outputs": [
    {
     "name": "stdout",
     "output_type": "stream",
     "text": [
      "{2, 5, 'PYTHON', 9.4, 'a'}\n"
     ]
    }
   ],
   "source": [
    "value_set={2,'PYTHON','a',5,9.4}\n",
    "value_set.discard(10)\n",
    "print(value_set)"
   ]
  },
  {
   "cell_type": "code",
   "execution_count": 29,
   "id": "e6972bc7-8a4e-4c42-8287-1ab775ca11ba",
   "metadata": {},
   "outputs": [
    {
     "name": "stdout",
     "output_type": "stream",
     "text": [
      "set()\n"
     ]
    }
   ],
   "source": [
    "value_set={2,'PYTHON','a',5,9.4}\n",
    "value_set.clear()\n",
    "print(value_set)"
   ]
  },
  {
   "cell_type": "code",
   "execution_count": 31,
   "id": "6544d4c6-2521-48cf-9b2d-626e19e449c7",
   "metadata": {},
   "outputs": [
    {
     "ename": "NameError",
     "evalue": "name 'value_set' is not defined",
     "output_type": "error",
     "traceback": [
      "\u001b[1;31m---------------------------------------------------------------------------\u001b[0m",
      "\u001b[1;31mNameError\u001b[0m                                 Traceback (most recent call last)",
      "Cell \u001b[1;32mIn[31], line 3\u001b[0m\n\u001b[0;32m      1\u001b[0m value_set\u001b[38;5;241m=\u001b[39m{\u001b[38;5;241m2\u001b[39m,\u001b[38;5;124m'\u001b[39m\u001b[38;5;124mPYTHON\u001b[39m\u001b[38;5;124m'\u001b[39m,\u001b[38;5;124m'\u001b[39m\u001b[38;5;124ma\u001b[39m\u001b[38;5;124m'\u001b[39m,\u001b[38;5;241m5\u001b[39m,\u001b[38;5;241m9.4\u001b[39m}\n\u001b[0;32m      2\u001b[0m \u001b[38;5;28;01mdel\u001b[39;00m value_set\n\u001b[1;32m----> 3\u001b[0m \u001b[38;5;28mprint\u001b[39m(value_set)\n",
      "\u001b[1;31mNameError\u001b[0m: name 'value_set' is not defined"
     ]
    }
   ],
   "source": [
    "value_set={2,'PYTHON','a',5,9.4}\n",
    "del value_set\n",
    "print(value_set)"
   ]
  },
  {
   "cell_type": "code",
   "execution_count": null,
   "id": "378195c9-491e-4331-9d87-12887d47be0f",
   "metadata": {},
   "outputs": [],
   "source": []
  }
 ],
 "metadata": {
  "kernelspec": {
   "display_name": "Python 3 (ipykernel)",
   "language": "python",
   "name": "python3"
  },
  "language_info": {
   "codemirror_mode": {
    "name": "ipython",
    "version": 3
   },
   "file_extension": ".py",
   "mimetype": "text/x-python",
   "name": "python",
   "nbconvert_exporter": "python",
   "pygments_lexer": "ipython3",
   "version": "3.12.4"
  }
 },
 "nbformat": 4,
 "nbformat_minor": 5
}
